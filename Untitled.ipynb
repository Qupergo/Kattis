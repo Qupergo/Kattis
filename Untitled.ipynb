{
 "cells": [
  {
   "cell_type": "code",
   "execution_count": 14,
   "metadata": {},
   "outputs": [],
   "source": [
    "import pandas"
   ]
  },
  {
   "cell_type": "code",
   "execution_count": 7,
   "metadata": {},
   "outputs": [],
   "source": [
    "df = pandas.DataFrame([[1,2,3], [2,3,4], [3,4,5]])"
   ]
  },
  {
   "cell_type": "code",
   "execution_count": 9,
   "metadata": {},
   "outputs": [
    {
     "data": {
      "text/html": [
       "<div>\n",
       "<style scoped>\n",
       "    .dataframe tbody tr th:only-of-type {\n",
       "        vertical-align: middle;\n",
       "    }\n",
       "\n",
       "    .dataframe tbody tr th {\n",
       "        vertical-align: top;\n",
       "    }\n",
       "\n",
       "    .dataframe thead th {\n",
       "        text-align: right;\n",
       "    }\n",
       "</style>\n",
       "<table border=\"1\" class=\"dataframe\">\n",
       "  <thead>\n",
       "    <tr style=\"text-align: right;\">\n",
       "      <th></th>\n",
       "      <th>0</th>\n",
       "      <th>1</th>\n",
       "      <th>2</th>\n",
       "    </tr>\n",
       "  </thead>\n",
       "  <tbody>\n",
       "    <tr>\n",
       "      <th>0</th>\n",
       "      <td>1</td>\n",
       "      <td>2</td>\n",
       "      <td>3</td>\n",
       "    </tr>\n",
       "    <tr>\n",
       "      <th>1</th>\n",
       "      <td>2</td>\n",
       "      <td>3</td>\n",
       "      <td>4</td>\n",
       "    </tr>\n",
       "    <tr>\n",
       "      <th>2</th>\n",
       "      <td>3</td>\n",
       "      <td>4</td>\n",
       "      <td>5</td>\n",
       "    </tr>\n",
       "  </tbody>\n",
       "</table>\n",
       "</div>"
      ],
      "text/plain": [
       "   0  1  2\n",
       "0  1  2  3\n",
       "1  2  3  4\n",
       "2  3  4  5"
      ]
     },
     "execution_count": 9,
     "metadata": {},
     "output_type": "execute_result"
    }
   ],
   "source": [
    "df"
   ]
  },
  {
   "cell_type": "code",
   "execution_count": 12,
   "metadata": {},
   "outputs": [
    {
     "data": {
      "text/plain": [
       "0    3\n",
       "1    4\n",
       "2    5\n",
       "Name: 2, dtype: int64"
      ]
     },
     "execution_count": 12,
     "metadata": {},
     "output_type": "execute_result"
    }
   ],
   "source": [
    "df[2]"
   ]
  },
  {
   "cell_type": "code",
   "execution_count": 16,
   "metadata": {},
   "outputs": [
    {
     "data": {
      "text/plain": [
       "0    2.0\n",
       "1    3.0\n",
       "2    4.0\n",
       "dtype: float64"
      ]
     },
     "execution_count": 16,
     "metadata": {},
     "output_type": "execute_result"
    }
   ],
   "source": [
    "df.mean()"
   ]
  },
  {
   "cell_type": "code",
   "execution_count": 20,
   "metadata": {},
   "outputs": [
    {
     "data": {
      "text/plain": [
       "numpy.float64"
      ]
     },
     "execution_count": 20,
     "metadata": {},
     "output_type": "execute_result"
    }
   ],
   "source": [
    "type(df.mean().mean().mean())"
   ]
  },
  {
   "cell_type": "code",
   "execution_count": 28,
   "metadata": {},
   "outputs": [],
   "source": [
    "import numpy as np"
   ]
  },
  {
   "cell_type": "code",
   "execution_count": 42,
   "metadata": {},
   "outputs": [
    {
     "data": {
      "text/plain": [
       "0.8450980400142568"
      ]
     },
     "execution_count": 42,
     "metadata": {},
     "output_type": "execute_result"
    }
   ],
   "source": [
    "np.log10(49)/2"
   ]
  },
  {
   "cell_type": "code",
   "execution_count": 46,
   "metadata": {},
   "outputs": [],
   "source": [
    "from geopy.geocoders import ArcGIS"
   ]
  },
  {
   "cell_type": "code",
   "execution_count": 148,
   "metadata": {
    "scrolled": true
   },
   "outputs": [
    {
     "data": {
      "text/plain": [
       "Latitude     59.296088\n",
       "Longitude    16.898839\n",
       "dtype: float64"
      ]
     },
     "execution_count": 148,
     "metadata": {},
     "output_type": "execute_result"
    }
   ],
   "source": [
    "arc = ArcGIS()\n",
    "sebastian = {'name':'Sebastian Danckwardt', 'home_location':arc.geocode('Höglundavägen 10, Skå, Sweden, 17975')}\n",
    "david = {'name':'David Mjärdner', 'home_location':arc.geocode('Hagtornsvägen 2, Sweden, SE 19479')}\n",
    "pontus = {'name':'Pontus Karlsson', 'home_location':arc.geocode('Tappströmsvägen 200, Sweden, SE 17832')}\n",
    "eric = {'name':'Eric Forsell', 'home_location':arc.geocode('Jägarstigen 56, Sweden, SE 14437')}\n",
    "oscar = {'name':'Oscar Salomonsson', 'home_location':arc.geocode('Liljevägen 2 B, Sweden, 19135')}\n",
    "alve = {'name':'Alve Pilo', 'home_location':arc.geocode('Lars Påhls väg 24, Sweden, 26352')}\n",
    "magnus_kerstin = {'name':'Magnus och Kerstin', 'home_location':arc.geocode('Ässjö 449, Hassela, Sweden, 82998')}\n",
    "\n",
    "import pandas as pd\n",
    "people = [david, pontus, eric, sebastian, oscar, alve, magnus_kerstin]\n",
    "\n",
    "p = pd.DataFrame()\n",
    "p['Names'] = [i['name'] for i in people]\n",
    "p['Home Location'] = [i['home_location'][0] for i in people]\n",
    "p['Latitude'] = [i['home_location'].latitude for i in people]\n",
    "p['Longitude'] = [i['home_location'].longitude for i in people]\n",
    "\n",
    "p.mean()"
   ]
  },
  {
   "cell_type": "code",
   "execution_count": 90,
   "metadata": {},
   "outputs": [
    {
     "data": {
      "text/plain": [
       "3.141592653589793"
      ]
     },
     "execution_count": 90,
     "metadata": {},
     "output_type": "execute_result"
    }
   ],
   "source": [
    "np.pi"
   ]
  },
  {
   "cell_type": "code",
   "execution_count": 105,
   "metadata": {},
   "outputs": [],
   "source": [
    "n = np.arange(27)\n",
    "n.reshape(3,3,3)"
   ]
  },
  {
   "cell_type": "code",
   "execution_count": 108,
   "metadata": {},
   "outputs": [],
   "source": [
    "import cv2"
   ]
  },
  {
   "cell_type": "code",
   "execution_count": 119,
   "metadata": {},
   "outputs": [
    {
     "data": {
      "text/plain": [
       "array([[[187, 187, 187],\n",
       "        [158, 158, 158],\n",
       "        [104, 104, 104],\n",
       "        [121, 121, 121],\n",
       "        [143, 143, 143]],\n",
       "\n",
       "       [[198, 198, 198],\n",
       "        [125, 125, 125],\n",
       "        [255, 255, 255],\n",
       "        [255, 255, 255],\n",
       "        [147, 147, 147]],\n",
       "\n",
       "       [[209, 209, 209],\n",
       "        [134, 134, 134],\n",
       "        [255, 255, 255],\n",
       "        [ 97,  97,  97],\n",
       "        [182, 182, 182]]], dtype=uint8)"
      ]
     },
     "execution_count": 119,
     "metadata": {},
     "output_type": "execute_result"
    }
   ],
   "source": [
    "im_g = cv2.imread(\"smallgray.png\",1)\n",
    "im_g"
   ]
  },
  {
   "cell_type": "code",
   "execution_count": 149,
   "metadata": {},
   "outputs": [
    {
     "data": {
      "text/plain": [
       "array([[224,  31, 177, ...,  86, 112, 189],\n",
       "       [148,  57, 104, ..., 144, 194,  67],\n",
       "       [115, 227,  98, ..., 184, 110, 188],\n",
       "       ...,\n",
       "       [245,  89, 233, ...,  77,  44,  56],\n",
       "       [ 50, 212, 115, ...,  92, 194, 234],\n",
       "       [ 83, 101,  11, ...,  51, 174,  25]])"
      ]
     },
     "execution_count": 149,
     "metadata": {},
     "output_type": "execute_result"
    }
   ],
   "source": [
    "import random\n",
    "n = []\n",
    "for i in range(30000):\n",
    "    n.append(random.randint(0,255))\n",
    "n = np.asarray(n)\n",
    "n = n.reshape(30,1000)\n",
    "cv2.imwrite('newsmallgray.png',n)\n",
    "n"
   ]
  },
  {
   "cell_type": "code",
   "execution_count": 171,
   "metadata": {},
   "outputs": [
    {
     "data": {
      "text/html": [
       "<div>\n",
       "<style scoped>\n",
       "    .dataframe tbody tr th:only-of-type {\n",
       "        vertical-align: middle;\n",
       "    }\n",
       "\n",
       "    .dataframe tbody tr th {\n",
       "        vertical-align: top;\n",
       "    }\n",
       "\n",
       "    .dataframe thead th {\n",
       "        text-align: right;\n",
       "    }\n",
       "</style>\n",
       "<table border=\"1\" class=\"dataframe\">\n",
       "  <thead>\n",
       "    <tr style=\"text-align: right;\">\n",
       "      <th></th>\n",
       "      <th>Names</th>\n",
       "      <th>Home Location</th>\n",
       "    </tr>\n",
       "  </thead>\n",
       "  <tbody>\n",
       "    <tr>\n",
       "      <th>0</th>\n",
       "      <td>Edwin Ahlstrand\\n</td>\n",
       "      <td>(Fågelvägen 25, 175 64, Järfälla, (59.39883336...</td>\n",
       "    </tr>\n",
       "    <tr>\n",
       "      <th>1</th>\n",
       "      <td>David Aldenbro\\n</td>\n",
       "      <td>(Trollvägen 3, 176 70, Järfälla, (59.452485570...</td>\n",
       "    </tr>\n",
       "    <tr>\n",
       "      <th>2</th>\n",
       "      <td>Annahi Barrera Mondaca\\n</td>\n",
       "      <td>(Gamla Värmdövägen 11, 131 37, Nacka, (59.3084...</td>\n",
       "    </tr>\n",
       "    <tr>\n",
       "      <th>3</th>\n",
       "      <td>Tuva Bartak\\n</td>\n",
       "      <td>(Eriksviksvägen 3, 132 36, Saltsjö-Boo, (59.32...</td>\n",
       "    </tr>\n",
       "    <tr>\n",
       "      <th>4</th>\n",
       "      <td>Sebastian Bergström\\n</td>\n",
       "      <td>(Vallavägen 109, 136 41, Haninge, (59.16020046...</td>\n",
       "    </tr>\n",
       "    <tr>\n",
       "      <th>5</th>\n",
       "      <td>David Byström\\n</td>\n",
       "      <td>(Anundsvägen 32, 168 53, Bromma, (59.353234805...</td>\n",
       "    </tr>\n",
       "    <tr>\n",
       "      <th>6</th>\n",
       "      <td>Carl Chemnitz\\n</td>\n",
       "      <td>(Kälvestavägen 46, 163 54, Spånga, (59.3759117...</td>\n",
       "    </tr>\n",
       "    <tr>\n",
       "      <th>7</th>\n",
       "      <td>Sebastian Danckwardt\\n</td>\n",
       "      <td>(Höglundavägen 10, 179 75, Skå, (59.3172040968...</td>\n",
       "    </tr>\n",
       "    <tr>\n",
       "      <th>8</th>\n",
       "      <td>Gustav Eriksson\\n</td>\n",
       "      <td>(Ynglingagatan 9, 113 47, Stockholm, (59.34925...</td>\n",
       "    </tr>\n",
       "    <tr>\n",
       "      <th>9</th>\n",
       "      <td>Eric Forsell\\n</td>\n",
       "      <td>(Jägarstigen 56, 144 37, Rönninge, (59.2052191...</td>\n",
       "    </tr>\n",
       "    <tr>\n",
       "      <th>10</th>\n",
       "      <td>Olle Granlöf\\n</td>\n",
       "      <td>(Tenorgränd 31, 162 47, Vällingby, (59.3847121...</td>\n",
       "    </tr>\n",
       "    <tr>\n",
       "      <th>11</th>\n",
       "      <td>Albin Hainke\\n</td>\n",
       "      <td>(Örnholmsbrinken 106, 127 42, Skärholmen, (59....</td>\n",
       "    </tr>\n",
       "    <tr>\n",
       "      <th>12</th>\n",
       "      <td>Adrian Harju-Jeanty\\n</td>\n",
       "      <td>(Sjöbjörnsvägen 66B, 117 67, Stockholm, (59.31...</td>\n",
       "    </tr>\n",
       "    <tr>\n",
       "      <th>13</th>\n",
       "      <td>Andreas Hedbjörn\\n</td>\n",
       "      <td>(Svalgränd 4, 172 36, Sundbyberg, (59.36557206...</td>\n",
       "    </tr>\n",
       "    <tr>\n",
       "      <th>14</th>\n",
       "      <td>Melker Holmström\\n</td>\n",
       "      <td>(Rudsjövägen 56, 131 47, Nacka, (59.3254668204...</td>\n",
       "    </tr>\n",
       "    <tr>\n",
       "      <th>15</th>\n",
       "      <td>Samuel Janson Entian\\n</td>\n",
       "      <td>(Starrbäcksgatan 11, 172 74, Sundbyberg, (59.3...</td>\n",
       "    </tr>\n",
       "    <tr>\n",
       "      <th>16</th>\n",
       "      <td>Pontus Karlsson\\n</td>\n",
       "      <td>(Tappströmsvägen 102, 178 32, Ekerö, (59.29287...</td>\n",
       "    </tr>\n",
       "    <tr>\n",
       "      <th>17</th>\n",
       "      <td>Ruben Karlsson\\n</td>\n",
       "      <td>(Skogsängsvägen 66, 135 55, Tyresö, (59.227708...</td>\n",
       "    </tr>\n",
       "    <tr>\n",
       "      <th>18</th>\n",
       "      <td>Axel Lilja\\n</td>\n",
       "      <td>(Gråstigen 5, 133 36, Nacka, (59.2681296838824...</td>\n",
       "    </tr>\n",
       "    <tr>\n",
       "      <th>19</th>\n",
       "      <td>Kajsa Lindahl\\n</td>\n",
       "      <td>(Hugins väg 9, 131 46, Nacka, (59.321952126002...</td>\n",
       "    </tr>\n",
       "    <tr>\n",
       "      <th>20</th>\n",
       "      <td>David Mjärdner\\n</td>\n",
       "      <td>(Hagtornsvägen 2, 194 79, Upplands Väsby, (59....</td>\n",
       "    </tr>\n",
       "    <tr>\n",
       "      <th>21</th>\n",
       "      <td>Emil Nilsson Ljungdell\\n</td>\n",
       "      <td>(Stenslingan 1, 178 40, Ekerö, (59.27196221787...</td>\n",
       "    </tr>\n",
       "    <tr>\n",
       "      <th>22</th>\n",
       "      <td>Malcolm Ovin\\n</td>\n",
       "      <td>(Ollonstigen 5, 181 64, Lidingö, (59.359810431...</td>\n",
       "    </tr>\n",
       "    <tr>\n",
       "      <th>23</th>\n",
       "      <td>Madeleine Rogersdotter\\n</td>\n",
       "      <td>(Tulegatan 16, 172 78, Sundbyberg, (59.3657093...</td>\n",
       "    </tr>\n",
       "    <tr>\n",
       "      <th>24</th>\n",
       "      <td>Oscar Salomonsson\\n</td>\n",
       "      <td>(Liljevägen 2B, 191 35, Sollentuna, (59.440253...</td>\n",
       "    </tr>\n",
       "    <tr>\n",
       "      <th>25</th>\n",
       "      <td>Atakan Sentürk\\n</td>\n",
       "      <td>(Holmvägen 15, 194 35, Upplands Väsby, (59.524...</td>\n",
       "    </tr>\n",
       "    <tr>\n",
       "      <th>26</th>\n",
       "      <td>Jessica Siddique\\n</td>\n",
       "      <td>(Kotkagatan 33, 164 75, Kista, (59.41480768495...</td>\n",
       "    </tr>\n",
       "    <tr>\n",
       "      <th>27</th>\n",
       "      <td>Sofia Sörensson\\n</td>\n",
       "      <td>(Trastvägen 6, 182 79, Danderyd, (59.381759912...</td>\n",
       "    </tr>\n",
       "    <tr>\n",
       "      <th>28</th>\n",
       "      <td>Erik Tervo Ekelöf\\n</td>\n",
       "      <td>(Färgargårdstorget 88, 116 43, Stockholm, (59....</td>\n",
       "    </tr>\n",
       "    <tr>\n",
       "      <th>29</th>\n",
       "      <td>Adam Zbati\\n</td>\n",
       "      <td>(Tvärvägen 11B, 195 32, Sigtuna, (59.626720576...</td>\n",
       "    </tr>\n",
       "    <tr>\n",
       "      <th>30</th>\n",
       "      <td>August Ågren\\n</td>\n",
       "      <td>(Åbergssons väg 15, 170 77, Solna, (59.3781565...</td>\n",
       "    </tr>\n",
       "    <tr>\n",
       "      <th>31</th>\n",
       "      <td>Albin Östman\\n</td>\n",
       "      <td>(Gabardinvägen 12, 196 38, Kungsängen, (59.509...</td>\n",
       "    </tr>\n",
       "  </tbody>\n",
       "</table>\n",
       "</div>"
      ],
      "text/plain": [
       "                       Names  \\\n",
       "0          Edwin Ahlstrand\\n   \n",
       "1           David Aldenbro\\n   \n",
       "2   Annahi Barrera Mondaca\\n   \n",
       "3              Tuva Bartak\\n   \n",
       "4      Sebastian Bergström\\n   \n",
       "5            David Byström\\n   \n",
       "6            Carl Chemnitz\\n   \n",
       "7     Sebastian Danckwardt\\n   \n",
       "8          Gustav Eriksson\\n   \n",
       "9             Eric Forsell\\n   \n",
       "10            Olle Granlöf\\n   \n",
       "11            Albin Hainke\\n   \n",
       "12     Adrian Harju-Jeanty\\n   \n",
       "13        Andreas Hedbjörn\\n   \n",
       "14        Melker Holmström\\n   \n",
       "15    Samuel Janson Entian\\n   \n",
       "16         Pontus Karlsson\\n   \n",
       "17          Ruben Karlsson\\n   \n",
       "18              Axel Lilja\\n   \n",
       "19           Kajsa Lindahl\\n   \n",
       "20          David Mjärdner\\n   \n",
       "21  Emil Nilsson Ljungdell\\n   \n",
       "22            Malcolm Ovin\\n   \n",
       "23  Madeleine Rogersdotter\\n   \n",
       "24       Oscar Salomonsson\\n   \n",
       "25          Atakan Sentürk\\n   \n",
       "26        Jessica Siddique\\n   \n",
       "27         Sofia Sörensson\\n   \n",
       "28       Erik Tervo Ekelöf\\n   \n",
       "29              Adam Zbati\\n   \n",
       "30            August Ågren\\n   \n",
       "31            Albin Östman\\n   \n",
       "\n",
       "                                        Home Location  \n",
       "0   (Fågelvägen 25, 175 64, Järfälla, (59.39883336...  \n",
       "1   (Trollvägen 3, 176 70, Järfälla, (59.452485570...  \n",
       "2   (Gamla Värmdövägen 11, 131 37, Nacka, (59.3084...  \n",
       "3   (Eriksviksvägen 3, 132 36, Saltsjö-Boo, (59.32...  \n",
       "4   (Vallavägen 109, 136 41, Haninge, (59.16020046...  \n",
       "5   (Anundsvägen 32, 168 53, Bromma, (59.353234805...  \n",
       "6   (Kälvestavägen 46, 163 54, Spånga, (59.3759117...  \n",
       "7   (Höglundavägen 10, 179 75, Skå, (59.3172040968...  \n",
       "8   (Ynglingagatan 9, 113 47, Stockholm, (59.34925...  \n",
       "9   (Jägarstigen 56, 144 37, Rönninge, (59.2052191...  \n",
       "10  (Tenorgränd 31, 162 47, Vällingby, (59.3847121...  \n",
       "11  (Örnholmsbrinken 106, 127 42, Skärholmen, (59....  \n",
       "12  (Sjöbjörnsvägen 66B, 117 67, Stockholm, (59.31...  \n",
       "13  (Svalgränd 4, 172 36, Sundbyberg, (59.36557206...  \n",
       "14  (Rudsjövägen 56, 131 47, Nacka, (59.3254668204...  \n",
       "15  (Starrbäcksgatan 11, 172 74, Sundbyberg, (59.3...  \n",
       "16  (Tappströmsvägen 102, 178 32, Ekerö, (59.29287...  \n",
       "17  (Skogsängsvägen 66, 135 55, Tyresö, (59.227708...  \n",
       "18  (Gråstigen 5, 133 36, Nacka, (59.2681296838824...  \n",
       "19  (Hugins väg 9, 131 46, Nacka, (59.321952126002...  \n",
       "20  (Hagtornsvägen 2, 194 79, Upplands Väsby, (59....  \n",
       "21  (Stenslingan 1, 178 40, Ekerö, (59.27196221787...  \n",
       "22  (Ollonstigen 5, 181 64, Lidingö, (59.359810431...  \n",
       "23  (Tulegatan 16, 172 78, Sundbyberg, (59.3657093...  \n",
       "24  (Liljevägen 2B, 191 35, Sollentuna, (59.440253...  \n",
       "25  (Holmvägen 15, 194 35, Upplands Väsby, (59.524...  \n",
       "26  (Kotkagatan 33, 164 75, Kista, (59.41480768495...  \n",
       "27  (Trastvägen 6, 182 79, Danderyd, (59.381759912...  \n",
       "28  (Färgargårdstorget 88, 116 43, Stockholm, (59....  \n",
       "29  (Tvärvägen 11B, 195 32, Sigtuna, (59.626720576...  \n",
       "30  (Åbergssons väg 15, 170 77, Solna, (59.3781565...  \n",
       "31  (Gabardinvägen 12, 196 38, Kungsängen, (59.509...  "
      ]
     },
     "execution_count": 171,
     "metadata": {},
     "output_type": "execute_result"
    }
   ],
   "source": [
    "classmates = pd.DataFrame()\n",
    "names = []\n",
    "adress = []\n",
    "postnumber = []\n",
    "adresses = []\n",
    "with open(r'klasskamrater.txt', 'r') as k:\n",
    "    iteration = 0\n",
    "    for i in k.readlines():\n",
    "        iteration += 1\n",
    "\n",
    "        if iteration == 1:\n",
    "            names.append(i)\n",
    "        if iteration == 4:\n",
    "            adress.append(i)\n",
    "        if iteration == 5:\n",
    "            postnumber.append(i)\n",
    "            iteration = 0\n",
    "\n",
    "classmates['Names'] = [i for i in names]\n",
    "classmates['Home Location'] = [arc.geocode(f\"{adress[i]}, {postnumber[i]}\") for i in range(len(adress))]\n",
    "classmates"
   ]
  }
 ],
 "metadata": {
  "kernelspec": {
   "display_name": "Python 3",
   "language": "python",
   "name": "python3"
  },
  "language_info": {
   "codemirror_mode": {
    "name": "ipython",
    "version": 3
   },
   "file_extension": ".py",
   "mimetype": "text/x-python",
   "name": "python",
   "nbconvert_exporter": "python",
   "pygments_lexer": "ipython3",
   "version": "3.7.2"
  }
 },
 "nbformat": 4,
 "nbformat_minor": 2
}
